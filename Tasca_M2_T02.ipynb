{
 "cells": [
  {
   "cell_type": "markdown",
   "id": "fc71c93c",
   "metadata": {},
   "source": [
    "## Exercici 1"
   ]
  },
  {
   "cell_type": "markdown",
   "id": "c5cadaeb",
   "metadata": {},
   "source": [
    "- L'exercici consisteix a crear una funció que et classifiqui una variable numèrica en funció de l’escala Suspès/Aprovat/Notable/Excel·lent.\n",
    "\n",
    "- Recorda que Suspès < 5, Aprovat > 5 i < 7, Notable > 7 i < 9 i Excel·lent > 9."
   ]
  },
  {
   "cell_type": "code",
   "execution_count": 12,
   "id": "ec58bdb7",
   "metadata": {},
   "outputs": [
    {
     "name": "stdout",
     "output_type": "stream",
     "text": [
      "¿Entra la teva nota per comprovar el teu resultat? 8.7\n",
      "La teva nota és: Notable\n"
     ]
    }
   ],
   "source": [
    "nota = float(input(\"¿Entra la teva nota per comprovar el teu resultat? \"))\n",
    "\n",
    "def qualificacio(nota):\n",
    "    if nota < 5:\n",
    "        return \"Suspès\"\n",
    "    elif nota >= 5 and nota < 7:\n",
    "        return \"Aprovat\"\n",
    "    elif nota >= 7 and nota < 9:\n",
    "        return \"Notable\"\n",
    "    elif nota >= 9:\n",
    "        return \"Excel·lent\"\n",
    "    else:\n",
    "        return \"Nota no vàlida\"\n",
    "\n",
    "qualificacio = qualificacio(nota)\n",
    "print(f\"La teva nota és: {qualificacio}\")\n"
   ]
  },
  {
   "cell_type": "code",
   "execution_count": 30,
   "id": "a0a3469c",
   "metadata": {},
   "outputs": [
    {
     "name": "stdout",
     "output_type": "stream",
     "text": [
      "¿Entra la teva nota per comprovar el teu resultat? 6.4\n",
      "La teva nota és: Aprovat\n"
     ]
    }
   ],
   "source": [
    "value = float(input(\"¿Entra la teva nota per comprovar el teu resultat? \"))\n",
    "\n",
    "if value < 5:\n",
    "    nota = \"Suspès\"\n",
    "elif value >= 5 and value < 7:\n",
    "    nota = \"Aprovat\"\n",
    "elif value >= 7 and value < 9:\n",
    "    nota = \"Aprovat\"\n",
    "elif value >= 9:\n",
    "    nota = \"Excel·lent\"\n",
    "else:\n",
    "    nota = \"La nota no és vàlida\"\n",
    "\n",
    "print(\"La teva nota és:\", nota)"
   ]
  },
  {
   "cell_type": "markdown",
   "id": "484d5ea3",
   "metadata": {},
   "source": [
    "## Exercici 2"
   ]
  },
  {
   "cell_type": "markdown",
   "id": "9e62169a",
   "metadata": {},
   "source": [
    "- Crea una funció que et pregunti dos números. T’ha de mostrar un missatge dient si el primer és més gran, el segon és més gran o són iguals.\n",
    "\n"
   ]
  },
  {
   "cell_type": "code",
   "execution_count": 40,
   "id": "c0435d3e",
   "metadata": {},
   "outputs": [
    {
     "name": "stdout",
     "output_type": "stream",
     "text": [
      "Introdueix un número: 3.299995\n",
      "Introdueix un altre número: 3.299996\n",
      "El segon número és més gran que 3.299995\n"
     ]
    }
   ],
   "source": [
    "value1 = float(input(\"Introdueix un número: \"))\n",
    "value2 = float(input(\"Introdueix un altre número: \"))\n",
    "\n",
    "if value1 > value2:\n",
    "    print(f\"El primer número és més gran que {value2}\")\n",
    "elif value1 < value2:\n",
    "    print(f\"El segon número és més gran que {value1}\")\n",
    "else:\n",
    "    print(\"Són iguals\")\n",
    "    "
   ]
  },
  {
   "cell_type": "markdown",
   "id": "590c0952",
   "metadata": {},
   "source": [
    "## Exercici 3"
   ]
  },
  {
   "cell_type": "markdown",
   "id": "0bfd4a65",
   "metadata": {},
   "source": [
    "- Crea una funció que et pregunti el teu nom, i et demani un número. Si el número és 0, hauria de mostrar un missatge d’error. En cas contrari, hauria de mostrar el nom repetit tants cops com indiqui el número. Per exemple, “Joan Joan Joan”."
   ]
  },
  {
   "cell_type": "code",
   "execution_count": 1,
   "id": "643554a9",
   "metadata": {},
   "outputs": [
    {
     "name": "stdout",
     "output_type": "stream",
     "text": [
      "Introdueix un nom: Sergi\n",
      "Introdueix un número que no sigui '0': 6\n",
      "Sergi\n",
      "Sergi\n",
      "Sergi\n",
      "Sergi\n",
      "Sergi\n",
      "Sergi\n"
     ]
    }
   ],
   "source": [
    "nom = input(\"Introdueix un nom: \")\n",
    "value = int(input(\"Introdueix un número que no sigui '0': \"))\n",
    "\n",
    "if value == 0:\n",
    "    print(\"El número no és vàlid\")\n",
    "\n",
    "int = i = 1;    \n",
    "while i <= value:\n",
    "     print(nom)\n",
    "     i +=1\n"
   ]
  },
  {
   "cell_type": "markdown",
   "id": "75c9f994",
   "metadata": {},
   "source": [
    "## Exercici 4"
   ]
  },
  {
   "cell_type": "markdown",
   "id": "7203097c",
   "metadata": {},
   "source": [
    "- Crea una funció que donada una llista qualsevol, et digui si és simètrica o no. Si ho és, que et digui quants elements té."
   ]
  },
  {
   "cell_type": "code",
   "execution_count": 6,
   "id": "4e7d0c18",
   "metadata": {},
   "outputs": [
    {
     "name": "stdout",
     "output_type": "stream",
     "text": [
      "Introdueix una llista d'elements separats per espais: 1 2 3 4 3 2 1\n",
      "La llista és simètrica.\n"
     ]
    }
   ],
   "source": [
    "def is_symmetric(your_list):\n",
    "    return your_list == your_list[::-1]\n",
    "\n",
    "entrada = input(\"Introdueix una llista d'elements separats per espais: \")\n",
    "elements = entrada.split()\n",
    "##elements = [int(elem) for elem in elements]\n",
    "\n",
    "if is_symmetric(elements):\n",
    "    print(\"La llista és simètrica.\")\n",
    "else:\n",
    "    print(\"La llista no és simètrica\")\n",
    "        "
   ]
  },
  {
   "cell_type": "markdown",
   "id": "83f07138",
   "metadata": {},
   "source": [
    "## Exercici 5"
   ]
  },
  {
   "cell_type": "markdown",
   "id": "e0d35471",
   "metadata": {},
   "source": [
    "- Crea una funció que donada una llista, et digui quants números coincideixen amb la seva posició. Per exemple [3,4,2,0,2,3,6] el 2 i el 6 coincideixen."
   ]
  },
  {
   "cell_type": "code",
   "execution_count": 2,
   "id": "4a763ac9",
   "metadata": {},
   "outputs": [
    {
     "name": "stdout",
     "output_type": "stream",
     "text": [
      "Introdueix una llista d'elements separats per espais: 0 1 2 \n",
      "S'ha trobat coincidències a les posicions: \n",
      "L'element a la posició 0 coincideix amb el seu valor: 0\n",
      "L'element a la posició 1 coincideix amb el seu valor: 1\n",
      "L'element a la posició 2 coincideix amb el seu valor: 2\n",
      "[(0, 0), (1, 1), (2, 2)]\n"
     ]
    }
   ],
   "source": [
    "def find_concordance(your_list):\n",
    "    concordance = []\n",
    "\n",
    "    for i, element in enumerate(your_list):\n",
    "        if i == element:\n",
    "            concordance.append((i, element))\n",
    "    return concordance\n",
    "\n",
    "entrada = input(\"Introdueix una llista d'elements separats per espais: \")\n",
    "elements = entrada.split()\n",
    "elements = [int(elem) for elem in elements]\n",
    "concordance = find_concordance(elements)\n",
    "\n",
    "if concordance:\n",
    "    print(\"S'ha trobat coincidències a les posicions: \")\n",
    "    for posicio, valor in concordance:\n",
    "        print(f\"L'element a la posició {posicio} coincideix amb el seu valor: {valor}\")\n",
    "else:\n",
    "    print(\"No s'han trobat coincidèncias a la lista.\")\n",
    "\n",
    "print(concordance)"
   ]
  },
  {
   "cell_type": "code",
   "execution_count": null,
   "id": "2cb03481",
   "metadata": {},
   "outputs": [],
   "source": []
  }
 ],
 "metadata": {
  "kernelspec": {
   "display_name": "Python 3 (ipykernel)",
   "language": "python",
   "name": "python3"
  },
  "language_info": {
   "codemirror_mode": {
    "name": "ipython",
    "version": 3
   },
   "file_extension": ".py",
   "mimetype": "text/x-python",
   "name": "python",
   "nbconvert_exporter": "python",
   "pygments_lexer": "ipython3",
   "version": "3.10.8"
  }
 },
 "nbformat": 4,
 "nbformat_minor": 5
}
